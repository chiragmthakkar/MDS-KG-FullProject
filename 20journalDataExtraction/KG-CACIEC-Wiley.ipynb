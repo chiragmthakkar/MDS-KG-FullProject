{
 "cells": [
  {
   "cell_type": "code",
   "execution_count": 17,
   "id": "2871f302",
   "metadata": {},
   "outputs": [],
   "source": [
    "# Wiley"
   ]
  },
  {
   "cell_type": "code",
   "execution_count": 2,
   "id": "aa6bd9d6",
   "metadata": {},
   "outputs": [],
   "source": [
    "import requests\n",
    "from bs4 import BeautifulSoup\n",
    "from pandas.io.html import read_html\n",
    "import pandas as pd"
   ]
  },
  {
   "cell_type": "code",
   "execution_count": 3,
   "id": "8964f0ff",
   "metadata": {},
   "outputs": [
    {
     "data": {
      "text/html": [
       "<div>\n",
       "<style scoped>\n",
       "    .dataframe tbody tr th:only-of-type {\n",
       "        vertical-align: middle;\n",
       "    }\n",
       "\n",
       "    .dataframe tbody tr th {\n",
       "        vertical-align: top;\n",
       "    }\n",
       "\n",
       "    .dataframe thead th {\n",
       "        text-align: right;\n",
       "    }\n",
       "</style>\n",
       "<table border=\"1\" class=\"dataframe\">\n",
       "  <thead>\n",
       "    <tr style=\"text-align: right;\">\n",
       "      <th></th>\n",
       "      <th>searchTerm1</th>\n",
       "      <th>searchTerm2</th>\n",
       "      <th>url</th>\n",
       "      <th>Title</th>\n",
       "      <th>section0</th>\n",
       "      <th>sectionData0</th>\n",
       "      <th>section1</th>\n",
       "      <th>sectionData1</th>\n",
       "      <th>section2</th>\n",
       "      <th>sectionData2</th>\n",
       "      <th>...</th>\n",
       "      <th>section15</th>\n",
       "      <th>sectionData15</th>\n",
       "      <th>section16</th>\n",
       "      <th>sectionData16</th>\n",
       "      <th>section17</th>\n",
       "      <th>sectionData17</th>\n",
       "      <th>section18</th>\n",
       "      <th>sectionData18</th>\n",
       "      <th>section19</th>\n",
       "      <th>sectionData19</th>\n",
       "    </tr>\n",
       "  </thead>\n",
       "  <tbody>\n",
       "  </tbody>\n",
       "</table>\n",
       "<p>0 rows × 44 columns</p>\n",
       "</div>"
      ],
      "text/plain": [
       "Empty DataFrame\n",
       "Columns: [searchTerm1, searchTerm2, url, Title, section0, sectionData0, section1, sectionData1, section2, sectionData2, section3, sectionData3, section4, sectionData4, section5, sectionData5, section6, sectionData6, section7, sectionData7, section8, sectionData8, section9, sectionData9, section10, sectionData10, section11, sectionData11, section12, sectionData12, section13, sectionData13, section14, sectionData14, section15, sectionData15, section16, sectionData16, section17, sectionData17, section18, sectionData18, section19, sectionData19]\n",
       "Index: []\n",
       "\n",
       "[0 rows x 44 columns]"
      ]
     },
     "execution_count": 3,
     "metadata": {},
     "output_type": "execute_result"
    }
   ],
   "source": [
    "df = pd.DataFrame()\n",
    "df.to_csv('blankFile.csv')\n",
    "\n",
    "columnNames = ['searchTerm1','searchTerm2','url','Title']\n",
    "\n",
    "df = pd.read_csv(\"blankFile.csv\", names= columnNames , header = None)\n",
    "df = df.iloc[1:]\n",
    "\n",
    "for i in range(20):\n",
    "    section = \"section\" + str(i)\n",
    "    sectionData = \"sectionData\" + str(i)\n",
    "    df[section] = ''\n",
    "    df[sectionData] = ''\n",
    "\n",
    "df"
   ]
  },
  {
   "cell_type": "code",
   "execution_count": 11,
   "id": "3fb9271e",
   "metadata": {},
   "outputs": [
    {
     "name": "stdout",
     "output_type": "stream",
     "text": [
      "['Green']\n",
      "['a']\n"
     ]
    }
   ],
   "source": [
    "searchTerm1 = ['BIM', 'Building Information Modelling']\n",
    "searchTerm2 = ['Green Building', 'Green Buildings']\n",
    "\n",
    "\n",
    "# searchTerm1 = ['a']\n",
    "# searchTerm2 = ['Green']\n",
    "\n",
    "tc = 0\n",
    "\n",
    "# searchTerm1 = ['BIM' , 'Building Information Modelling','Building information model','6D BIM', 'Digital construction','Smart construction','Digital engineering']\n",
    "# searchTerm2 = ['Green Building' , 'Green Buildings','Sustainable building','Sustainable buildings','Environmentally friendly design' , 'Sustainability' , 'Sustainable development' , 'Energy','Water' ,'Waste' , 'Thermal comfort','Electricity' ,'Solar','Wind power' , 'Green infrastructure','Life cycle assessment']\n",
    "\n",
    "counter = 0\n",
    "programSearchTerms1 = []\n",
    "programSearchTerms2 = []\n",
    "\n",
    "for term2 in searchTerm2:\n",
    "    text2 = \"\"\n",
    "    terms2 = term2.split(' ')\n",
    "    for t2 in terms2:\n",
    "        text2 = text2 + t2 + \"+\"\n",
    "\n",
    "    fileIndex = text2.rfind(\"+\")\n",
    "    te = text2[:fileIndex]\n",
    "    programSearchTerms2.append(te)\n",
    "\n",
    "print(programSearchTerms2)\n",
    "\n",
    "for term1 in searchTerm1:\n",
    "    text1 = \"\"\n",
    "    terms1 = term1.split(' ')\n",
    "    for t2 in terms1:\n",
    "        text1 = text1 + t2 + \"+\"\n",
    "\n",
    "    fileIndex = text1.rfind(\"+\")\n",
    "    te = text1[:fileIndex]\n",
    "    programSearchTerms1.append(te)\n",
    "\n",
    "print(programSearchTerms1)"
   ]
  },
  {
   "cell_type": "code",
   "execution_count": 14,
   "id": "ceb240d7",
   "metadata": {},
   "outputs": [
    {
     "name": "stdout",
     "output_type": "stream",
     "text": [
      "https://onlinelibrary.wiley.com/action/doSearch?field1=Abstract&text1=%22a%22+AND+%22Green%22&field2=AllField&text2=&field3=AllField&text3=&publication%5B%5D=14678667&Ppub=\n",
      "[<h2 class=\"cf-subheadline\"><span data-translate=\"complete_sec_check\">Please complete the security check to access</span> onlinelibrary.wiley.com</h2>, <h2 data-translate=\"why_captcha_headline\">Why do I have to complete a CAPTCHA?</h2>, <h2 data-translate=\"resolve_captcha_headline\">What can I do to prevent this in the future?</h2>]\n"
     ]
    }
   ],
   "source": [
    "baseUrl = 'https://onlinelibrary.wiley.com/action/doSearch?field1=Abstract&text1=%22'\n",
    "querySet = []\n",
    "row = 0\n",
    "for item1 in programSearchTerms1:\n",
    "    for item2 in programSearchTerms2:\n",
    "#         %22+AND+%22\n",
    "        query = baseUrl + item1 +\"%22+AND+%22\"+ item2+\"%22&field2=AllField&text2=&field3=AllField&text3=&publication%5B%5D=14678667&Ppub=\"\n",
    "        print(query)\n",
    "        response = requests.get(query)\n",
    "        soup = BeautifulSoup(response.text, 'html.parser')\n",
    "        tt = soup.find_all('h2')\n",
    "        print(tt)\n",
    "        \n",
    "        \n",
    "#         allParas = soup.find_all(\"p\")\n",
    "#         dd = allParas[0].text\n",
    "#         miniData = dd.split(' ')\n",
    "#         NumberOfResultsStr = miniData[2]\n",
    "#         indexOfcomma = NumberOfResultsStr.find(',')\n",
    "\n",
    "#         if indexOfcomma != -1:\n",
    "#             NumberOfResultsStr = NumberOfResultsStr.replace(',','')\n",
    "\n",
    "#         number = int(NumberOfResultsStr)\n",
    "#         tc = tc + number\n",
    "#         print(number)\n",
    "# # print(\"tc\",tc)\n",
    "        \n",
    "#         page = number // 10\n",
    "#         lastPage = number % 10\n",
    "#         if lastPage > 0:\n",
    "#             page = page + 1\n",
    "\n",
    "#         pageSize = page\n",
    "#         print(pageSize)\n",
    "\n",
    "#         cnt = 0\n",
    "#         allLinks = []\n",
    "        \n",
    "# #         for testing purpose only\n",
    "# #         pageSize = 2\n",
    "\n",
    "# #         for currentPage in range(0,pageSize):\n",
    "#         for currentPage in range(0,1):\n",
    "#             print(\"In page: \",currentPage)\n",
    "            \n",
    "#             if currentPage != 0:\n",
    "#                 newQuery = query + '&pageSize=10&subjectTitle=&startPage=' + str(currentPage)\n",
    "#                 cnt = cnt + 1\n",
    "#             else:\n",
    "#                 newQuery = query\n",
    "            \n",
    "#             print(\"Searching for query: \",newQuery)\n",
    "#             response = requests.get(newQuery)\n",
    "#             soup = BeautifulSoup(response.text, 'html.parser')\n",
    "#             mydivs = soup.findAll(\"a\", {'class':['ref nowrap']})\n",
    "            \n",
    "#             for d in mydivs:\n",
    "#                 url = 'https://www.tandfonline.com' + d.get('href')\n",
    "#                 allLinks.append(url)\n",
    "\n",
    "#         for link in allLinks:\n",
    "#             df.loc[row,'searchTerm1'] = item1\n",
    "#             df.loc[row,'searchTerm2'] = item2\n",
    "#             df.loc[row,'url'] = link\n",
    "#             html_content = requests.get(link).text\n",
    "#             soup = BeautifulSoup(html_content, \"lxml\")\n",
    "            \n",
    "#             for i in soup.find('span',{'class':['NLM_article-title' ,'hlFld-title']}):\n",
    "# #                 print(\"Title: \",i)\n",
    "#                 df.loc[row,'Title'] = i\n",
    "            \n",
    "#             temp = soup.findAll('h2',{'class':['section-heading-2']} )\n",
    "#             print(\"Number of sections: \",len(temp))            \n",
    "            \n",
    "#             count = 0\n",
    "#             for i in range(len(temp)):\n",
    "\n",
    "#                 if temp[i].text == temp[i].find_next('p').text:\n",
    "        \n",
    "#                     extract = \"section\" + str(count)\n",
    "#                     extractData = temp[i].find_next('p').find_next('p').text\n",
    "#                     df.loc[row,extract] = temp[i].text\n",
    "#                     sectionData = \"sectionData\" + str(count)                    \n",
    "#                     df.loc[row,sectionData] = extractData\n",
    "#                     count = count + 1\n",
    "#                 else:\n",
    "#                     extract = \"section\" + str(count)\n",
    "#                     extractData = temp[i].find_next('p').text\n",
    "#                     df.loc[row,extract] = temp[i].text\n",
    "#                     sectionData = \"sectionData\" + str(count)\n",
    "#                     df.loc[row,sectionData] = extractData\n",
    "#                     count = count + 1\n",
    "            \n",
    "            \n",
    "#             row = row + 1\n",
    "#             print(\"row: \",row)"
   ]
  },
  {
   "cell_type": "code",
   "execution_count": null,
   "id": "c0904846",
   "metadata": {},
   "outputs": [],
   "source": []
  },
  {
   "cell_type": "code",
   "execution_count": null,
   "id": "f7f4bb26",
   "metadata": {},
   "outputs": [],
   "source": []
  },
  {
   "cell_type": "code",
   "execution_count": null,
   "id": "6db91672",
   "metadata": {},
   "outputs": [],
   "source": []
  },
  {
   "cell_type": "code",
   "execution_count": 5,
   "id": "2a394711",
   "metadata": {},
   "outputs": [],
   "source": [
    "# https://onlinelibrary.wiley.com/action/doSearch?field1=Abstract&text1=%22Green%22+AND+%22BIM%22&field2=AllField&text2=&field3=AllField&text3=&publication%5B%5D=14678667&Ppub="
   ]
  },
  {
   "cell_type": "code",
   "execution_count": null,
   "id": "3ae5c690",
   "metadata": {},
   "outputs": [],
   "source": [
    "https://onlinelibrary.wiley.com/action/doSearch?field1=Abstract&text1=%22Green%22+AND+%22BIM%22&field2=AllField&text2=&field3=AllField&text3=&publication%5B%5D=14678667&Ppub="
   ]
  },
  {
   "cell_type": "code",
   "execution_count": null,
   "id": "957e365b",
   "metadata": {},
   "outputs": [],
   "source": [
    "https://onlinelibrary.wiley.com/action/doSearch?field1=Abstract&text1=%22Green+BULDING%22+AND+%22BIM%22&field2=AllField&text2=&field3=AllField&text3=&publication%5B%5D=14678667&Ppub="
   ]
  },
  {
   "cell_type": "code",
   "execution_count": null,
   "id": "d270d7e8",
   "metadata": {},
   "outputs": [],
   "source": []
  }
 ],
 "metadata": {
  "kernelspec": {
   "display_name": "Python 3",
   "language": "python",
   "name": "python3"
  },
  "language_info": {
   "codemirror_mode": {
    "name": "ipython",
    "version": 3
   },
   "file_extension": ".py",
   "mimetype": "text/x-python",
   "name": "python",
   "nbconvert_exporter": "python",
   "pygments_lexer": "ipython3",
   "version": "3.8.8"
  }
 },
 "nbformat": 4,
 "nbformat_minor": 5
}
